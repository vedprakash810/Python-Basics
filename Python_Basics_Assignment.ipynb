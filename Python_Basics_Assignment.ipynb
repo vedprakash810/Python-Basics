{
  "nbformat": 4,
  "nbformat_minor": 0,
  "metadata": {
    "colab": {
      "provenance": []
    },
    "kernelspec": {
      "name": "python3",
      "display_name": "Python 3"
    },
    "language_info": {
      "name": "python"
    }
  },
  "cells": [
    {
      "cell_type": "code",
      "execution_count": null,
      "metadata": {
        "id": "gGrzKJz5cBk_"
      },
      "outputs": [],
      "source": [
        "# Python Basics questions"
      ]
    },
    {
      "cell_type": "markdown",
      "source": [
        "1. What is python, and Why is it popular?\n",
        "\n",
        "   Ans-Python is a computer programming language often used to build websites and software, automate tasks, and analyze data. It is easy to learn and Building large and complicated software applications is much faster with lesser time.\n",
        "2. What is an interpreter in python?\n",
        "\n",
        "   Ans- A python interpreter is a computer program that converts each high-level program statement into machine code.\n",
        "3. What are pre-defined keywords in python?\n",
        "\n",
        "   Ans- Keywords are pre-defined, reserved identifiers that have special meanings to the compiler.\n",
        "4. Can keywords be used as variable names?\n",
        "\n",
        "   Ans- Keywords define the language's syntax rules and structure, and they cannot be used as variable names.\n",
        "5. What is mutability in python?\n",
        "\n",
        "   Ans- In Python, a list is mutable because its elements can be changed after creation. You can modify, add, or remove items from a list without creating a new list, offering flexibility and efficiency for dynamic data handling.\n",
        "6. What are lists mutable, but tuples are immutable?\n",
        "\n",
        "   Ans- The key difference between tuples and lists is that while tuples are immutable objects, lists are mutable. This means tuples cannot be changed while lists can be modified. Tuples are also more memory efficient than the lists.\n",
        "7. What is difference between “ ==” and “is” operators in\n",
        "   python?\n",
        "\n",
        "   Ans- The “==” operator helps us compare the equality of objects. The “is” operator helps us check whether different variables point towards a similar object in the memory.\n",
        "8. What are logical operators in python?\n",
        "\n",
        "   Ans- In Python, logical operators are used to combine multiple conditions together and evaluate them as a single boolean expression. There are three types of logical operators in Python: `and`, `or`, and `not’.\n",
        "9. What is type casting in python?\n",
        "\n",
        "   Ans- Type Casting is the method to convert the Python variable datatype into a certain data type in order to perform the required operation by users.\n",
        "10. What is the difference between implicit and explicit\n",
        "  type casting?\n",
        "\n",
        "   Ans- Explicit type conversion in programming is done manually by the programmer, while implicit conversion is handled automatically by the compiler.\n",
        "11. What is the purpose of conditional statements in\n",
        "   python?\n",
        "\n",
        "   Ans- Conditional statements are an essential part of programming in Python. They allow you to make decisions based on the values of variables or the result of comparisons.\n",
        "12. How does the elif statements work?\n",
        "\n",
        "  Ans- The “elif” keyword in Python, stands for “else if”. It can be used in conditional statements to check for multiple conditions. For example, if the first condition is false, it moves on to the next “elif” statement to check if that condition is true.\n",
        "13. What is difference between for and while loops?\n",
        "\n",
        "   Ans- We use the for loop when the increment and initialization are very simple. We use the while loop in the case of a complex initialization.\n",
        "14. Describe a scenario where a while loop is more\n",
        "   suitable than a for loop.\n",
        "\n",
        "  Ans- Use a for loop when you know the loop should execute n times. Use a while loop when asking for user input. Use a while loop when the increment value is nonstandard.\n",
        "\n"
      ],
      "metadata": {
        "id": "c9o-Pg57cJXW"
      }
    },
    {
      "cell_type": "markdown",
      "source": [],
      "metadata": {
        "id": "B0najj_pfQE5"
      }
    },
    {
      "cell_type": "code",
      "source": [
        " # 1. Write a python program to print Hello, World!\n",
        " # Ans-\n",
        " print(\"Hello World!\")\n"
      ],
      "metadata": {
        "colab": {
          "base_uri": "https://localhost:8080/"
        },
        "id": "OcyCoteVh7tW",
        "outputId": "b14e8054-e4bf-4070-d1cd-19c161502ecd"
      },
      "execution_count": null,
      "outputs": [
        {
          "output_type": "stream",
          "name": "stdout",
          "text": [
            "Hello World!\n"
          ]
        }
      ]
    },
    {
      "cell_type": "code",
      "source": [
        "# 2. write a python program that displays your name and age.\n",
        "age = input(\"Enter age: \")\n",
        "name = input(\"Enter name: \")\n",
        "print(\"Hi, my name is \" + name + \", and I am \" + age + \" years old.\")"
      ],
      "metadata": {
        "id": "kL2b-A2hf7I7",
        "colab": {
          "base_uri": "https://localhost:8080/"
        },
        "outputId": "503b8ec9-6671-4d86-cbc7-7a9c73438d00"
      },
      "execution_count": null,
      "outputs": [
        {
          "output_type": "stream",
          "name": "stdout",
          "text": [
            "Enter age: 32\n",
            "Enter name: Ved prakash\n",
            "Hi, my name is Ved prakash, and I am 32 years old.\n"
          ]
        }
      ]
    },
    {
      "cell_type": "code",
      "source": [
        "# 3.Write code to print all the pre-defined keywords in python using the keyword library.\n",
        "\n",
        "\n",
        "# printing the keywords\n",
        "print(\"Python keywords are...\")\n",
        "print(keyword.kwlist)\n"
      ],
      "metadata": {
        "id": "HyhQqsYLh6Oe",
        "colab": {
          "base_uri": "https://localhost:8080/"
        },
        "outputId": "477f8c73-320e-4232-92e1-1dce7a73eb88"
      },
      "execution_count": null,
      "outputs": [
        {
          "output_type": "stream",
          "name": "stdout",
          "text": [
            "Python keywords are...\n",
            "['False', 'None', 'True', 'and', 'as', 'assert', 'async', 'await', 'break', 'class', 'continue', 'def', 'del', 'elif', 'else', 'except', 'finally', 'for', 'from', 'global', 'if', 'import', 'in', 'is', 'lambda', 'nonlocal', 'not', 'or', 'pass', 'raise', 'return', 'try', 'while', 'with', 'yield']\n"
          ]
        }
      ]
    },
    {
      "cell_type": "code",
      "source": [
        "# 4. Write a program that checks if a given word is a python keyword.\n",
        "# Ans-\n",
        "\n",
        "string = \"class\"\n",
        "print(string, \" :\", keyword.iskeyword(string))\n",
        "\n",
        "string = \"break\"\n",
        "print(string, \" :\", keyword.iskeyword(string))\n",
        "\n",
        "string = \"continue\"\n",
        "print(string, \" :\", keyword.iskeyword(string))\n",
        "\n",
        "string = \"test\"\n",
        "print(string, \" :\", keyword.iskeyword(string))\n",
        "\n",
        "string = \"python\"\n",
        "print(string, \" :\", keyword.iskeyword(string))"
      ],
      "metadata": {
        "colab": {
          "base_uri": "https://localhost:8080/"
        },
        "id": "Efmiqd0O1Oqa",
        "outputId": "f938928d-27f0-47be-ca08-672b246790b8"
      },
      "execution_count": null,
      "outputs": [
        {
          "output_type": "stream",
          "name": "stdout",
          "text": [
            "class  : True\n",
            "break  : True\n",
            "continue  : True\n",
            "test  : False\n",
            "python  : False\n"
          ]
        }
      ]
    },
    {
      "cell_type": "code",
      "source": [
        "# 5.Create a list and tuple in python, and demonstrate how attempting to change an element works differently for each.\n",
        "# Ans-\n",
        "\n",
        "x = (\"apple\", \"banana\", \"cherry\")\n",
        "y = list(x)\n",
        "y[1] = \"kiwi\"\n",
        "x = tuple(y)\n",
        "\n",
        "print(x)"
      ],
      "metadata": {
        "colab": {
          "base_uri": "https://localhost:8080/"
        },
        "id": "iPUNFUkg3sfL",
        "outputId": "5425e4e4-cd3d-4695-a55a-fd1956ef8610"
      },
      "execution_count": null,
      "outputs": [
        {
          "output_type": "stream",
          "name": "stdout",
          "text": [
            "('apple', 'kiwi', 'cherry')\n"
          ]
        }
      ]
    },
    {
      "cell_type": "code",
      "source": [
        "# 6. write a function to demonstrate the behavior of mutable and immutable arguments.\n",
        "# Ans-\n",
        "# Initializing a variable\n",
        "x = 3\n",
        "\n",
        "# Storing it in another variable\n",
        "y = x\n",
        "\n",
        "# Checking if two have the same id reference\n",
        "print(\"x and y have same id: \", id(x) == id(y))\n"
      ],
      "metadata": {
        "colab": {
          "base_uri": "https://localhost:8080/"
        },
        "id": "5mXw_RU-67BZ",
        "outputId": "00c18671-bc4e-4c91-fa1b-edcbbe7630d1"
      },
      "execution_count": null,
      "outputs": [
        {
          "output_type": "stream",
          "name": "stdout",
          "text": [
            "x and y have same id:  True\n"
          ]
        }
      ]
    },
    {
      "cell_type": "code",
      "source": [
        "# 7.write a function to demonstrate the behavior of mutable and immutable arguments.\n",
        "# Initializing a variable\n",
        "x = 3\n",
        "\n",
        "# Storing it in another variable\n",
        "y = x\n",
        "\n",
        "# Checking if two have the same id reference\n",
        "print(\"x and y have same id: \", id(x) == id(y))"
      ],
      "metadata": {
        "colab": {
          "base_uri": "https://localhost:8080/"
        },
        "id": "1sFMzW1O7WYI",
        "outputId": "869526ee-02d5-438f-c93f-7cbadee2e9ec"
      },
      "execution_count": null,
      "outputs": [
        {
          "output_type": "stream",
          "name": "stdout",
          "text": [
            "x and y have same id:  True\n"
          ]
        }
      ]
    },
    {
      "cell_type": "code",
      "source": [
        "# 8. Write a program to demonstrate the use of logical operators.\n",
        "# Ans-\n",
        "a = 10\n",
        "b = 10\n",
        "c = -10\n",
        "if a > 0 and b > 0:\n",
        "    print(\"The numbers are greater than 0\")\n",
        "if a > 0 and b > 0 and c > 0:\n",
        "    print(\"The numbers are greater than 0\")\n",
        "else:\n",
        "    print(\"Atleast one number is not greater than  0\")"
      ],
      "metadata": {
        "colab": {
          "base_uri": "https://localhost:8080/"
        },
        "id": "9j3ZlDHH1Cl8",
        "outputId": "def8cbbc-8115-4122-9efc-4b360051c0d3"
      },
      "execution_count": null,
      "outputs": [
        {
          "output_type": "stream",
          "name": "stdout",
          "text": [
            "The numbers are greater than 0\n",
            "Atleast one number is not greater than  0\n"
          ]
        }
      ]
    },
    {
      "cell_type": "code",
      "source": [
        "# 9. Write a python program to convert user input from string to integer,float and boolean types.\n",
        "# Ans-\n",
        "# Converting a string into an integer\n",
        "number_str = \"10\"\n",
        "number_int = int(number_str)\n",
        "print(number_int)\n",
        "\n",
        "# Converting a string into a float\n",
        "decimal_str = \"10.5\"\n",
        "decimal_float = float(decimal_str)\n",
        "print(decimal_float)\n",
        "\n",
        "# Converting a string into boolean\n",
        "str1 = \"True\"\n",
        "str2 = \"False\"\n",
        "str3 = \"\"\n",
        "bool1 = bool(str1)\n",
        "bool2 = bool(str2)\n",
        "bool3 = bool(str3)\n",
        "print(bool1)\n",
        "print(bool2)\n",
        "print(bool3)"
      ],
      "metadata": {
        "colab": {
          "base_uri": "https://localhost:8080/"
        },
        "id": "UTahHMsS2NE0",
        "outputId": "ee2c48b3-44a8-4a07-f1e3-3b1915e9dffd"
      },
      "execution_count": null,
      "outputs": [
        {
          "output_type": "stream",
          "name": "stdout",
          "text": [
            "10\n",
            "10.5\n",
            "True\n",
            "True\n",
            "False\n"
          ]
        }
      ]
    },
    {
      "cell_type": "code",
      "source": [
        "# 10. Write code to demonstrate type casting with list elements.\n",
        "#Ans-\n",
        "\n",
        "# int variable\n",
        "a = 5\n",
        "\n",
        "# typecast to float\n",
        "n = float(a)\n",
        "\n",
        "print(n)\n",
        "print(type(n))\n"
      ],
      "metadata": {
        "id": "u-VpZBeEFnWz",
        "colab": {
          "base_uri": "https://localhost:8080/"
        },
        "outputId": "641378f3-52f3-4a7f-c8b5-c4dda181e492"
      },
      "execution_count": null,
      "outputs": [
        {
          "output_type": "stream",
          "name": "stdout",
          "text": [
            "5.0\n",
            "<class 'float'>\n"
          ]
        }
      ]
    },
    {
      "cell_type": "code",
      "source": [
        "# 11. Write a program that checks if a number is positive, negative, or zero.\n",
        "#Ans-\n",
        "number = int(input(\"Enter a number: \"))\n",
        "if number > 0:\n",
        "    print(\"The number is positive\")\n",
        "elif number < 0:\n",
        "    print(\"The number is negative\")\n",
        "else:\n",
        "    print(\"The number is zero\")"
      ],
      "metadata": {
        "colab": {
          "base_uri": "https://localhost:8080/"
        },
        "id": "scEOq-kUUCqp",
        "outputId": "9cde1401-086b-427e-f2aa-47e0b84365e5"
      },
      "execution_count": null,
      "outputs": [
        {
          "output_type": "stream",
          "name": "stdout",
          "text": [
            "Enter a number: -2\n",
            "The number is negative\n"
          ]
        }
      ]
    },
    {
      "cell_type": "code",
      "source": [
        "# 12. Write a for loop to print numbers from 1 to 10.\n",
        "# Ans-\n",
        "for i in range(1, 11):\n",
        "    print(i)\n"
      ],
      "metadata": {
        "colab": {
          "base_uri": "https://localhost:8080/"
        },
        "id": "oMKNprpgVyoQ",
        "outputId": "513dd629-322e-4553-d5ee-76cdee2d179b"
      },
      "execution_count": null,
      "outputs": [
        {
          "output_type": "stream",
          "name": "stdout",
          "text": [
            "1\n",
            "2\n",
            "3\n",
            "4\n",
            "5\n",
            "6\n",
            "7\n",
            "8\n",
            "9\n",
            "10\n"
          ]
        }
      ]
    },
    {
      "cell_type": "code",
      "source": [
        "# 13. Write a python program to find the sum of all even numbers between 1 to 50.\n",
        "#Ans-\n",
        "sum = 0\n",
        "for i in range(1, 51):\n",
        "    if i % 2 == 0:\n",
        "        sum += i\n",
        "print(\"The sum of all even numbers between 1 to 50 is\", sum)"
      ],
      "metadata": {
        "colab": {
          "base_uri": "https://localhost:8080/"
        },
        "id": "ek3d2UCTaWUQ",
        "outputId": "4a98b148-1490-4621-e516-60feff2e70d0"
      },
      "execution_count": null,
      "outputs": [
        {
          "output_type": "stream",
          "name": "stdout",
          "text": [
            "The sum of all even numbers between 1 to 50 is 650\n"
          ]
        }
      ]
    },
    {
      "cell_type": "code",
      "source": [
        "#14. Write a program to reverse a string using a while loop.\n",
        "#Ans-\n",
        "string = input(\"Enter a string: \")\n",
        "reverse = \"\"\n",
        "i = len(string) - 1\n",
        "while i >= 0:\n",
        "    reverse += string[i]\n",
        "    i -= 1\n",
        "print(\"The reverse of the string is\", reverse)"
      ],
      "metadata": {
        "colab": {
          "base_uri": "https://localhost:8080/"
        },
        "id": "P27v_261bosn",
        "outputId": "45c14eab-de4c-433b-80b5-dcbbed6d4079"
      },
      "execution_count": null,
      "outputs": [
        {
          "output_type": "stream",
          "name": "stdout",
          "text": [
            "Enter a string: ved\n",
            "The reverse of the string is dev\n"
          ]
        }
      ]
    },
    {
      "cell_type": "code",
      "source": [
        "# 15. Write a python program to calculate the factorial of a number provided by the user using a while loop.\n",
        "# Ans-\n",
        "# Get input from the user\n",
        "num = int(input(\"Enter a non-negative integer: \"))\n",
        "\n",
        "# Initialize variables\n",
        "factorial = 1\n",
        "i = 1\n",
        "\n",
        "# Calculate the factorial using a while loop\n",
        "while i <= num:\n",
        "    factorial *= i  # Multiply factorial by the current value of i\n",
        "    i += 1        # Increment i for the next iteration\n",
        "\n",
        "# Print the result\n",
        "print(\"The factorial of\", num, \"is\", factorial)"
      ],
      "metadata": {
        "colab": {
          "base_uri": "https://localhost:8080/"
        },
        "id": "dfwHePd1ctPt",
        "outputId": "4a1ce0a1-0a19-44f0-b18d-75b222d976ba"
      },
      "execution_count": null,
      "outputs": [
        {
          "output_type": "stream",
          "name": "stdout",
          "text": [
            "Enter a non-negative integer: 5\n",
            "The factorial of 5 is 120\n"
          ]
        }
      ]
    }
  ]
}